{
 "cells": [
  {
   "cell_type": "code",
   "execution_count": 1,
   "id": "7bcdb975",
   "metadata": {},
   "outputs": [],
   "source": [
    "import numpy as np\n",
    "import matplotlib.pyplot as plt\n",
    "from mpl_toolkits.mplot3d import Axes3D\n",
    "\n",
    "\n",
    "def rossler_attractor(x, y, z, a=0.1, b=0.1, c=14):\n",
    "\tx_dot = - y - z\n",
    "\ty_dot = x + a*y\n",
    "\tz_dot = b + z*(x - c)\n",
    "\n",
    "\treturn x_dot, y_dot, z_dot"
   ]
  },
  {
   "cell_type": "code",
   "execution_count": 2,
   "id": "8dca8290",
   "metadata": {},
   "outputs": [],
   "source": [
    "def clifford_attractor(x, y, a=-1.4, b=1.6, c=1.0, d=0.7):\n",
    "\tx_n1 = np.sin(a*y) + c*np.cos(a*x)\n",
    "\ty_n1 = np.sin(b*x) + d*np.cos(b*y)\n",
    "\n",
    "\treturn x_n1, y_n1"
   ]
  },
  {
   "cell_type": "code",
   "execution_count": 3,
   "id": "e022fe71",
   "metadata": {},
   "outputs": [],
   "source": [
    "\n",
    "# basic parameters\n",
    "steps = 1000000\n",
    "a,b,c,d = -1.4,1.6,1.0,0.7"
   ]
  },
  {
   "cell_type": "code",
   "execution_count": 4,
   "id": "8e5cfd35",
   "metadata": {},
   "outputs": [],
   "source": [
    "\n",
    "# initialize solutions arrays (+1 for initial conditions)\n",
    "xx = np.empty((steps + 1))\n",
    "yy = np.empty((steps + 1))\n",
    "\n",
    "# fill in initial conditions\n",
    "xx[0], yy[0] = (0.1, -0.1)"
   ]
  },
  {
   "cell_type": "code",
   "execution_count": 5,
   "id": "68ebee1d",
   "metadata": {},
   "outputs": [
    {
     "data": {
      "text/plain": [
       "[<matplotlib.lines.Line2D at 0x7fd196f6bb50>]"
      ]
     },
     "execution_count": 5,
     "metadata": {},
     "output_type": "execute_result"
    }
   ],
   "source": [
    "\n",
    "# solve equation system\n",
    "for i in range(steps):\n",
    "\t# Calculate derivatives\t\n",
    "\tx_dot, y_dot = clifford_attractor(xx[i], yy[i],a=a,b=b,c=c,d=d)\n",
    "\txx[i + 1] = x_dot\n",
    "\tyy[i + 1] = y_dot\n",
    "\n",
    "plt.figure(figsize=(5,5))\n",
    "plt.plot(xx, yy,'.',color='white',alpha=0.2,markersize=0.2)\n"
   ]
  },
  {
   "cell_type": "code",
   "execution_count": 6,
   "id": "9f1a2d88",
   "metadata": {},
   "outputs": [],
   "source": [
    "plt.axis('off')\n",
    "plt.savefig('clifford.png', dpi = 300, pad_inches = 0, bbox_inches = 'tight',facecolor='black')\n",
    "plt.close()"
   ]
  },
  {
   "cell_type": "code",
   "execution_count": 18,
   "id": "21fadd5b",
   "metadata": {},
   "outputs": [],
   "source": [
    "import pandas as pd\n",
    "lookuptable=pd.DataFrame(zip(xx,yy),columns=[\"xx\",\"yy\"])"
   ]
  },
  {
   "cell_type": "code",
   "execution_count": 19,
   "id": "1edc4e04",
   "metadata": {},
   "outputs": [
    {
     "data": {
      "text/html": [
       "<div>\n",
       "<style scoped>\n",
       "    .dataframe tbody tr th:only-of-type {\n",
       "        vertical-align: middle;\n",
       "    }\n",
       "\n",
       "    .dataframe tbody tr th {\n",
       "        vertical-align: top;\n",
       "    }\n",
       "\n",
       "    .dataframe thead th {\n",
       "        text-align: right;\n",
       "    }\n",
       "</style>\n",
       "<table border=\"1\" class=\"dataframe\">\n",
       "  <thead>\n",
       "    <tr style=\"text-align: right;\">\n",
       "      <th></th>\n",
       "      <th>xx</th>\n",
       "      <th>yy</th>\n",
       "    </tr>\n",
       "  </thead>\n",
       "  <tbody>\n",
       "    <tr>\n",
       "      <th>0</th>\n",
       "      <td>0.100000</td>\n",
       "      <td>-0.100000</td>\n",
       "    </tr>\n",
       "    <tr>\n",
       "      <th>1</th>\n",
       "      <td>1.129759</td>\n",
       "      <td>0.850377</td>\n",
       "    </tr>\n",
       "    <tr>\n",
       "      <th>2</th>\n",
       "      <td>-0.939431</td>\n",
       "      <td>1.118143</td>\n",
       "    </tr>\n",
       "    <tr>\n",
       "      <th>3</th>\n",
       "      <td>-0.747167</td>\n",
       "      <td>-1.149262</td>\n",
       "    </tr>\n",
       "    <tr>\n",
       "      <th>4</th>\n",
       "      <td>1.500279</td>\n",
       "      <td>-1.115765</td>\n",
       "    </tr>\n",
       "  </tbody>\n",
       "</table>\n",
       "</div>"
      ],
      "text/plain": [
       "         xx        yy\n",
       "0  0.100000 -0.100000\n",
       "1  1.129759  0.850377\n",
       "2 -0.939431  1.118143\n",
       "3 -0.747167 -1.149262\n",
       "4  1.500279 -1.115765"
      ]
     },
     "execution_count": 19,
     "metadata": {},
     "output_type": "execute_result"
    }
   ],
   "source": [
    "lookuptable.head()"
   ]
  },
  {
   "cell_type": "code",
   "execution_count": null,
   "id": "aca90542",
   "metadata": {},
   "outputs": [],
   "source": []
  }
 ],
 "metadata": {
  "kernelspec": {
   "display_name": "Python 3",
   "language": "python",
   "name": "python3"
  },
  "language_info": {
   "codemirror_mode": {
    "name": "ipython",
    "version": 3
   },
   "file_extension": ".py",
   "mimetype": "text/x-python",
   "name": "python",
   "nbconvert_exporter": "python",
   "pygments_lexer": "ipython3",
   "version": "3.7.4"
  }
 },
 "nbformat": 4,
 "nbformat_minor": 5
}
